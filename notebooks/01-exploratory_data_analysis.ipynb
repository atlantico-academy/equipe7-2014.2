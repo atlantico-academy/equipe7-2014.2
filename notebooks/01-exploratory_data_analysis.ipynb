{
 "cells": [
  {
   "cell_type": "markdown",
   "metadata": {},
   "source": [
    "# Análise exploratória de dados"
   ]
  },
  {
   "cell_type": "markdown",
   "metadata": {
    "tags": []
   },
   "source": [
    "## 1. Descrição dos dados"
   ]
  },
  {
   "cell_type": "markdown",
   "metadata": {},
   "source": [
    "### 1.1. Leitura do conjunto de dados"
   ]
  },
  {
   "cell_type": "code",
   "execution_count": 2,
   "metadata": {
    "tags": []
   },
   "outputs": [],
   "source": [
    "import pandas as pd\n",
    "import numpy as np\n",
    "import matplotlib.pyplot as plt\n",
    "import seaborn as sns\n"
   ]
  },
  {
   "cell_type": "code",
   "execution_count": 3,
   "metadata": {
    "tags": []
   },
   "outputs": [
    {
     "ename": "SyntaxError",
     "evalue": "invalid syntax (3682833210.py, line 1)",
     "output_type": "error",
     "traceback": [
      "\u001b[0;36m  Cell \u001b[0;32mIn[3], line 1\u001b[0;36m\u001b[0m\n\u001b[0;31m    colors = #[\"#20B2AA\", \"#B22028\"]\u001b[0m\n\u001b[0m             ^\u001b[0m\n\u001b[0;31mSyntaxError\u001b[0m\u001b[0;31m:\u001b[0m invalid syntax\n"
     ]
    }
   ],
   "source": [
    "colors = #[\"#20B2AA\", \"#B22028\"]\n",
    "sns.set_theme(style=\"whitegrid\")\n",
    "sns.set_palette(sns.color_palette(colors))"
   ]
  },
  {
   "cell_type": "code",
   "execution_count": 4,
   "metadata": {
    "tags": []
   },
   "outputs": [
    {
     "data": {
      "text/html": [
       "<div>\n",
       "<style scoped>\n",
       "    .dataframe tbody tr th:only-of-type {\n",
       "        vertical-align: middle;\n",
       "    }\n",
       "\n",
       "    .dataframe tbody tr th {\n",
       "        vertical-align: top;\n",
       "    }\n",
       "\n",
       "    .dataframe thead th {\n",
       "        text-align: right;\n",
       "    }\n",
       "</style>\n",
       "<table border=\"1\" class=\"dataframe\">\n",
       "  <thead>\n",
       "    <tr style=\"text-align: right;\">\n",
       "      <th></th>\n",
       "      <th>Size (cm)</th>\n",
       "      <th>Weight (g)</th>\n",
       "      <th>Brix (Sweetness)</th>\n",
       "      <th>pH (Acidity)</th>\n",
       "      <th>Softness (1-5)</th>\n",
       "      <th>HarvestTime (days)</th>\n",
       "      <th>Ripeness (1-5)</th>\n",
       "      <th>Color</th>\n",
       "      <th>Variety</th>\n",
       "      <th>Blemishes (Y/N)</th>\n",
       "      <th>Quality (1-5)</th>\n",
       "    </tr>\n",
       "  </thead>\n",
       "  <tbody>\n",
       "    <tr>\n",
       "      <th>0</th>\n",
       "      <td>7.5</td>\n",
       "      <td>180</td>\n",
       "      <td>12.0</td>\n",
       "      <td>3.2</td>\n",
       "      <td>2.0</td>\n",
       "      <td>10</td>\n",
       "      <td>4.0</td>\n",
       "      <td>Orange</td>\n",
       "      <td>Valencia</td>\n",
       "      <td>N</td>\n",
       "      <td>4.0</td>\n",
       "    </tr>\n",
       "    <tr>\n",
       "      <th>1</th>\n",
       "      <td>8.2</td>\n",
       "      <td>220</td>\n",
       "      <td>10.5</td>\n",
       "      <td>3.4</td>\n",
       "      <td>3.0</td>\n",
       "      <td>14</td>\n",
       "      <td>4.5</td>\n",
       "      <td>Deep Orange</td>\n",
       "      <td>Navel</td>\n",
       "      <td>N</td>\n",
       "      <td>4.5</td>\n",
       "    </tr>\n",
       "    <tr>\n",
       "      <th>2</th>\n",
       "      <td>6.8</td>\n",
       "      <td>150</td>\n",
       "      <td>14.0</td>\n",
       "      <td>3.0</td>\n",
       "      <td>1.0</td>\n",
       "      <td>7</td>\n",
       "      <td>5.0</td>\n",
       "      <td>Light Orange</td>\n",
       "      <td>Cara Cara</td>\n",
       "      <td>N</td>\n",
       "      <td>5.0</td>\n",
       "    </tr>\n",
       "    <tr>\n",
       "      <th>3</th>\n",
       "      <td>9.0</td>\n",
       "      <td>250</td>\n",
       "      <td>8.5</td>\n",
       "      <td>3.8</td>\n",
       "      <td>4.0</td>\n",
       "      <td>21</td>\n",
       "      <td>3.5</td>\n",
       "      <td>Orange-Red</td>\n",
       "      <td>Blood Orange</td>\n",
       "      <td>N</td>\n",
       "      <td>3.5</td>\n",
       "    </tr>\n",
       "    <tr>\n",
       "      <th>4</th>\n",
       "      <td>8.5</td>\n",
       "      <td>210</td>\n",
       "      <td>11.5</td>\n",
       "      <td>3.3</td>\n",
       "      <td>2.5</td>\n",
       "      <td>12</td>\n",
       "      <td>5.0</td>\n",
       "      <td>Orange</td>\n",
       "      <td>Hamlin</td>\n",
       "      <td>Y (Minor)</td>\n",
       "      <td>4.5</td>\n",
       "    </tr>\n",
       "    <tr>\n",
       "      <th>...</th>\n",
       "      <td>...</td>\n",
       "      <td>...</td>\n",
       "      <td>...</td>\n",
       "      <td>...</td>\n",
       "      <td>...</td>\n",
       "      <td>...</td>\n",
       "      <td>...</td>\n",
       "      <td>...</td>\n",
       "      <td>...</td>\n",
       "      <td>...</td>\n",
       "      <td>...</td>\n",
       "    </tr>\n",
       "    <tr>\n",
       "      <th>236</th>\n",
       "      <td>8.0</td>\n",
       "      <td>194</td>\n",
       "      <td>10.9</td>\n",
       "      <td>3.6</td>\n",
       "      <td>5.0</td>\n",
       "      <td>13</td>\n",
       "      <td>1.0</td>\n",
       "      <td>Orange-Red</td>\n",
       "      <td>Tangerine</td>\n",
       "      <td>Y (Scars)</td>\n",
       "      <td>5.0</td>\n",
       "    </tr>\n",
       "    <tr>\n",
       "      <th>237</th>\n",
       "      <td>7.4</td>\n",
       "      <td>275</td>\n",
       "      <td>8.5</td>\n",
       "      <td>3.5</td>\n",
       "      <td>5.0</td>\n",
       "      <td>20</td>\n",
       "      <td>5.0</td>\n",
       "      <td>Light Orange</td>\n",
       "      <td>Minneola (Hybrid)</td>\n",
       "      <td>N</td>\n",
       "      <td>4.0</td>\n",
       "    </tr>\n",
       "    <tr>\n",
       "      <th>238</th>\n",
       "      <td>7.5</td>\n",
       "      <td>196</td>\n",
       "      <td>15.7</td>\n",
       "      <td>3.0</td>\n",
       "      <td>3.0</td>\n",
       "      <td>13</td>\n",
       "      <td>3.0</td>\n",
       "      <td>Deep Orange</td>\n",
       "      <td>Temple</td>\n",
       "      <td>Y (Minor Insect Damage)</td>\n",
       "      <td>5.0</td>\n",
       "    </tr>\n",
       "    <tr>\n",
       "      <th>239</th>\n",
       "      <td>7.2</td>\n",
       "      <td>251</td>\n",
       "      <td>9.8</td>\n",
       "      <td>4.3</td>\n",
       "      <td>3.0</td>\n",
       "      <td>23</td>\n",
       "      <td>1.0</td>\n",
       "      <td>Light Orange</td>\n",
       "      <td>Moro (Blood)</td>\n",
       "      <td>Y (Minor Insect Damage)</td>\n",
       "      <td>3.0</td>\n",
       "    </tr>\n",
       "    <tr>\n",
       "      <th>240</th>\n",
       "      <td>7.3</td>\n",
       "      <td>282</td>\n",
       "      <td>10.5</td>\n",
       "      <td>2.9</td>\n",
       "      <td>4.0</td>\n",
       "      <td>21</td>\n",
       "      <td>2.0</td>\n",
       "      <td>Orange-Red</td>\n",
       "      <td>Jaffa</td>\n",
       "      <td>Y (Minor)</td>\n",
       "      <td>4.0</td>\n",
       "    </tr>\n",
       "  </tbody>\n",
       "</table>\n",
       "<p>241 rows × 11 columns</p>\n",
       "</div>"
      ],
      "text/plain": [
       "     Size (cm)  Weight (g)  Brix (Sweetness)  pH (Acidity)  Softness (1-5)  \\\n",
       "0          7.5         180              12.0           3.2             2.0   \n",
       "1          8.2         220              10.5           3.4             3.0   \n",
       "2          6.8         150              14.0           3.0             1.0   \n",
       "3          9.0         250               8.5           3.8             4.0   \n",
       "4          8.5         210              11.5           3.3             2.5   \n",
       "..         ...         ...               ...           ...             ...   \n",
       "236        8.0         194              10.9           3.6             5.0   \n",
       "237        7.4         275               8.5           3.5             5.0   \n",
       "238        7.5         196              15.7           3.0             3.0   \n",
       "239        7.2         251               9.8           4.3             3.0   \n",
       "240        7.3         282              10.5           2.9             4.0   \n",
       "\n",
       "     HarvestTime (days)  Ripeness (1-5)         Color            Variety  \\\n",
       "0                    10             4.0        Orange           Valencia   \n",
       "1                    14             4.5   Deep Orange              Navel   \n",
       "2                     7             5.0  Light Orange          Cara Cara   \n",
       "3                    21             3.5    Orange-Red       Blood Orange   \n",
       "4                    12             5.0        Orange             Hamlin   \n",
       "..                  ...             ...           ...                ...   \n",
       "236                  13             1.0    Orange-Red          Tangerine   \n",
       "237                  20             5.0  Light Orange  Minneola (Hybrid)   \n",
       "238                  13             3.0   Deep Orange             Temple   \n",
       "239                  23             1.0  Light Orange       Moro (Blood)   \n",
       "240                  21             2.0    Orange-Red              Jaffa   \n",
       "\n",
       "             Blemishes (Y/N)  Quality (1-5)  \n",
       "0                          N            4.0  \n",
       "1                          N            4.5  \n",
       "2                          N            5.0  \n",
       "3                          N            3.5  \n",
       "4                  Y (Minor)            4.5  \n",
       "..                       ...            ...  \n",
       "236                Y (Scars)            5.0  \n",
       "237                        N            4.0  \n",
       "238  Y (Minor Insect Damage)            5.0  \n",
       "239  Y (Minor Insect Damage)            3.0  \n",
       "240                Y (Minor)            4.0  \n",
       "\n",
       "[241 rows x 11 columns]"
      ]
     },
     "execution_count": 4,
     "metadata": {},
     "output_type": "execute_result"
    }
   ],
   "source": [
    "caminho = '../data/raw/Orange Quality Data.csv'\n",
    "laranjas = pd.read_csv(caminho) #Obtendo o dataset\n",
    "\n",
    "laranjas"
   ]
  },
  {
   "cell_type": "markdown",
   "metadata": {},
   "source": [
    "### 1.2. Dicionário de dados"
   ]
  },
  {
   "cell_type": "code",
   "execution_count": 11,
   "metadata": {
    "tags": []
   },
   "outputs": [
    {
     "data": {
      "text/html": [
       "<div>\n",
       "<style scoped>\n",
       "    .dataframe tbody tr th:only-of-type {\n",
       "        vertical-align: middle;\n",
       "    }\n",
       "\n",
       "    .dataframe tbody tr th {\n",
       "        vertical-align: top;\n",
       "    }\n",
       "\n",
       "    .dataframe thead th {\n",
       "        text-align: right;\n",
       "    }\n",
       "</style>\n",
       "<table border=\"1\" class=\"dataframe\">\n",
       "  <thead>\n",
       "    <tr style=\"text-align: right;\">\n",
       "      <th></th>\n",
       "      <th>variavel</th>\n",
       "      <th>descrição</th>\n",
       "      <th>tipo</th>\n",
       "      <th>subtipo</th>\n",
       "    </tr>\n",
       "  </thead>\n",
       "  <tbody>\n",
       "    <tr>\n",
       "      <th>0</th>\n",
       "      <td>Size</td>\n",
       "      <td>Tamanho da fruta em cm</td>\n",
       "      <td>Quantitativa</td>\n",
       "      <td>Contínua</td>\n",
       "    </tr>\n",
       "    <tr>\n",
       "      <th>1</th>\n",
       "      <td>Weight</td>\n",
       "      <td>Peso da fruta em g</td>\n",
       "      <td>Quantitativa</td>\n",
       "      <td>Contínua</td>\n",
       "    </tr>\n",
       "    <tr>\n",
       "      <th>2</th>\n",
       "      <td>Brix</td>\n",
       "      <td>Nível de doçura</td>\n",
       "      <td>Quantitativa</td>\n",
       "      <td>Contínua</td>\n",
       "    </tr>\n",
       "    <tr>\n",
       "      <th>3</th>\n",
       "      <td>pH</td>\n",
       "      <td>Nível de acidez em pH</td>\n",
       "      <td>Quantitativa</td>\n",
       "      <td>Contínua</td>\n",
       "    </tr>\n",
       "    <tr>\n",
       "      <th>4</th>\n",
       "      <td>Softness</td>\n",
       "      <td>Maciez de 1-5</td>\n",
       "      <td>Qualitativa</td>\n",
       "      <td>Ordinal</td>\n",
       "    </tr>\n",
       "    <tr>\n",
       "      <th>5</th>\n",
       "      <td>HarvestTime</td>\n",
       "      <td>Dias desde a colheita</td>\n",
       "      <td>Quantitativa</td>\n",
       "      <td>discreta</td>\n",
       "    </tr>\n",
       "    <tr>\n",
       "      <th>6</th>\n",
       "      <td>Ripeness</td>\n",
       "      <td>Maduração de 1-5</td>\n",
       "      <td>Qualitativa</td>\n",
       "      <td>Ordinal</td>\n",
       "    </tr>\n",
       "    <tr>\n",
       "      <th>7</th>\n",
       "      <td>Color</td>\n",
       "      <td>Cor da laranja</td>\n",
       "      <td>Qualitativa</td>\n",
       "      <td>Nominal</td>\n",
       "    </tr>\n",
       "    <tr>\n",
       "      <th>8</th>\n",
       "      <td>Variety</td>\n",
       "      <td>Variedade da laranja</td>\n",
       "      <td>Qualitativa</td>\n",
       "      <td>Nominal</td>\n",
       "    </tr>\n",
       "    <tr>\n",
       "      <th>9</th>\n",
       "      <td>Blemishes</td>\n",
       "      <td>Defeito</td>\n",
       "      <td>Qualitativa</td>\n",
       "      <td>Nominal</td>\n",
       "    </tr>\n",
       "    <tr>\n",
       "      <th>10</th>\n",
       "      <td>Quality</td>\n",
       "      <td>Qualidade da laranja de 1-5</td>\n",
       "      <td>Qualitativa</td>\n",
       "      <td>Ordinal</td>\n",
       "    </tr>\n",
       "  </tbody>\n",
       "</table>\n",
       "</div>"
      ],
      "text/plain": [
       "       variavel                    descrição          tipo   subtipo\n",
       "0          Size       Tamanho da fruta em cm  Quantitativa  Contínua\n",
       "1        Weight           Peso da fruta em g  Quantitativa  Contínua\n",
       "2          Brix              Nível de doçura  Quantitativa  Contínua\n",
       "3            pH        Nível de acidez em pH  Quantitativa  Contínua\n",
       "4      Softness                Maciez de 1-5   Qualitativa   Ordinal\n",
       "5   HarvestTime        Dias desde a colheita  Quantitativa  discreta\n",
       "6      Ripeness             Maduração de 1-5   Qualitativa   Ordinal\n",
       "7         Color               Cor da laranja   Qualitativa   Nominal\n",
       "8       Variety         Variedade da laranja   Qualitativa   Nominal\n",
       "9     Blemishes                      Defeito   Qualitativa   Nominal\n",
       "10      Quality  Qualidade da laranja de 1-5   Qualitativa   Ordinal"
      ]
     },
     "execution_count": 11,
     "metadata": {},
     "output_type": "execute_result"
    }
   ],
   "source": [
    "caminho_dic = '../data/external/dicionario.csv'\n",
    "dicionario = pd.read_csv(caminho_dic) #Obtendo o dataset\n",
    "\n",
    "dicionario"
   ]
  },
  {
   "cell_type": "markdown",
   "metadata": {
    "tags": []
   },
   "source": [
    "---\n"
   ]
  },
  {
   "cell_type": "markdown",
   "metadata": {},
   "source": [
    "Este dataset apresenta ....."
   ]
  },
  {
   "cell_type": "markdown",
   "metadata": {
    "tags": []
   },
   "source": [
    "## 2. Perguntas de partida e hipóteses"
   ]
  },
  {
   "cell_type": "markdown",
   "metadata": {},
   "source": [
    "(perguntas de partida de hipótese\n",
    "- Qual a relação da maduração com o tempo de colheita?\n",
    "\n",
    "- Qual é a relação do tipo de laranja com a doçura?\n",
    "\n",
    "- Existe alguma relação de tamanho com macieis e doçura?\n",
    "\n",
    "- As laranjas mais macias são mais fáceis de ter danos?\n",
    "\n",
    "- Existe um tipo de laranja mais resistente a danos?\n",
    "\n",
    "- A cor tem algum tipo de influencia na qualidade da laranja?\n",
    "\n",
    "- Que conjunto de informações fazem a qualidade da laranja ser melhor?"
   ]
  },
  {
   "cell_type": "markdown",
   "metadata": {
    "tags": []
   },
   "source": [
    "**Dados Faltantes**"
   ]
  },
  {
   "cell_type": "code",
   "execution_count": 13,
   "metadata": {
    "tags": []
   },
   "outputs": [
    {
     "name": "stdout",
     "output_type": "stream",
     "text": [
      "<class 'pandas.core.frame.DataFrame'>\n",
      "RangeIndex: 241 entries, 0 to 240\n",
      "Data columns (total 11 columns):\n",
      " #   Column              Non-Null Count  Dtype  \n",
      "---  ------              --------------  -----  \n",
      " 0   Size (cm)           241 non-null    float64\n",
      " 1   Weight (g)          241 non-null    int64  \n",
      " 2   Brix (Sweetness)    241 non-null    float64\n",
      " 3   pH (Acidity)        241 non-null    float64\n",
      " 4   Softness (1-5)      241 non-null    float64\n",
      " 5   HarvestTime (days)  241 non-null    int64  \n",
      " 6   Ripeness (1-5)      241 non-null    float64\n",
      " 7   Color               241 non-null    object \n",
      " 8   Variety             241 non-null    object \n",
      " 9   Blemishes (Y/N)     241 non-null    object \n",
      " 10  Quality (1-5)       241 non-null    float64\n",
      "dtypes: float64(6), int64(2), object(3)\n",
      "memory usage: 20.8+ KB\n"
     ]
    }
   ],
   "source": [
    "laranjas.info()"
   ]
  },
  {
   "cell_type": "code",
   "execution_count": 14,
   "metadata": {
    "tags": []
   },
   "outputs": [
    {
     "data": {
      "text/plain": [
       "Size (cm)             0\n",
       "Weight (g)            0\n",
       "Brix (Sweetness)      0\n",
       "pH (Acidity)          0\n",
       "Softness (1-5)        0\n",
       "HarvestTime (days)    0\n",
       "Ripeness (1-5)        0\n",
       "Color                 0\n",
       "Variety               0\n",
       "Blemishes (Y/N)       0\n",
       "Quality (1-5)         0\n",
       "dtype: int64"
      ]
     },
     "execution_count": 14,
     "metadata": {},
     "output_type": "execute_result"
    }
   ],
   "source": [
    "qtd_nulos = laranjas.isnull().sum()\n",
    "qtd_nulos"
   ]
  },
  {
   "cell_type": "markdown",
   "metadata": {},
   "source": [
    "**Distribuição dos dados (variável por variável)**"
   ]
  },
  {
   "cell_type": "code",
   "execution_count": 16,
   "metadata": {
    "tags": []
   },
   "outputs": [
    {
     "data": {
      "text/html": [
       "<div>\n",
       "<style scoped>\n",
       "    .dataframe tbody tr th:only-of-type {\n",
       "        vertical-align: middle;\n",
       "    }\n",
       "\n",
       "    .dataframe tbody tr th {\n",
       "        vertical-align: top;\n",
       "    }\n",
       "\n",
       "    .dataframe thead th {\n",
       "        text-align: right;\n",
       "    }\n",
       "</style>\n",
       "<table border=\"1\" class=\"dataframe\">\n",
       "  <thead>\n",
       "    <tr style=\"text-align: right;\">\n",
       "      <th></th>\n",
       "      <th>Size (cm)</th>\n",
       "      <th>Weight (g)</th>\n",
       "      <th>Brix (Sweetness)</th>\n",
       "      <th>pH (Acidity)</th>\n",
       "      <th>Softness (1-5)</th>\n",
       "      <th>HarvestTime (days)</th>\n",
       "      <th>Ripeness (1-5)</th>\n",
       "      <th>Color</th>\n",
       "      <th>Variety</th>\n",
       "      <th>Blemishes (Y/N)</th>\n",
       "      <th>Quality (1-5)</th>\n",
       "    </tr>\n",
       "  </thead>\n",
       "  <tbody>\n",
       "    <tr>\n",
       "      <th>count</th>\n",
       "      <td>241.000000</td>\n",
       "      <td>241.000000</td>\n",
       "      <td>241.000000</td>\n",
       "      <td>241.000000</td>\n",
       "      <td>241.000000</td>\n",
       "      <td>241.000000</td>\n",
       "      <td>241.000000</td>\n",
       "      <td>241</td>\n",
       "      <td>241</td>\n",
       "      <td>241</td>\n",
       "      <td>241.000000</td>\n",
       "    </tr>\n",
       "    <tr>\n",
       "      <th>unique</th>\n",
       "      <td>NaN</td>\n",
       "      <td>NaN</td>\n",
       "      <td>NaN</td>\n",
       "      <td>NaN</td>\n",
       "      <td>NaN</td>\n",
       "      <td>NaN</td>\n",
       "      <td>NaN</td>\n",
       "      <td>5</td>\n",
       "      <td>24</td>\n",
       "      <td>12</td>\n",
       "      <td>NaN</td>\n",
       "    </tr>\n",
       "    <tr>\n",
       "      <th>top</th>\n",
       "      <td>NaN</td>\n",
       "      <td>NaN</td>\n",
       "      <td>NaN</td>\n",
       "      <td>NaN</td>\n",
       "      <td>NaN</td>\n",
       "      <td>NaN</td>\n",
       "      <td>NaN</td>\n",
       "      <td>Deep Orange</td>\n",
       "      <td>Cara Cara</td>\n",
       "      <td>N</td>\n",
       "      <td>NaN</td>\n",
       "    </tr>\n",
       "    <tr>\n",
       "      <th>freq</th>\n",
       "      <td>NaN</td>\n",
       "      <td>NaN</td>\n",
       "      <td>NaN</td>\n",
       "      <td>NaN</td>\n",
       "      <td>NaN</td>\n",
       "      <td>NaN</td>\n",
       "      <td>NaN</td>\n",
       "      <td>75</td>\n",
       "      <td>21</td>\n",
       "      <td>149</td>\n",
       "      <td>NaN</td>\n",
       "    </tr>\n",
       "    <tr>\n",
       "      <th>mean</th>\n",
       "      <td>7.844813</td>\n",
       "      <td>205.128631</td>\n",
       "      <td>10.907884</td>\n",
       "      <td>3.473900</td>\n",
       "      <td>3.072614</td>\n",
       "      <td>15.344398</td>\n",
       "      <td>3.599585</td>\n",
       "      <td>NaN</td>\n",
       "      <td>NaN</td>\n",
       "      <td>NaN</td>\n",
       "      <td>3.817427</td>\n",
       "    </tr>\n",
       "    <tr>\n",
       "      <th>std</th>\n",
       "      <td>1.086002</td>\n",
       "      <td>56.461012</td>\n",
       "      <td>2.760446</td>\n",
       "      <td>0.421007</td>\n",
       "      <td>1.323630</td>\n",
       "      <td>5.323852</td>\n",
       "      <td>1.205214</td>\n",
       "      <td>NaN</td>\n",
       "      <td>NaN</td>\n",
       "      <td>NaN</td>\n",
       "      <td>1.014410</td>\n",
       "    </tr>\n",
       "    <tr>\n",
       "      <th>min</th>\n",
       "      <td>6.000000</td>\n",
       "      <td>100.000000</td>\n",
       "      <td>5.500000</td>\n",
       "      <td>2.800000</td>\n",
       "      <td>1.000000</td>\n",
       "      <td>4.000000</td>\n",
       "      <td>1.000000</td>\n",
       "      <td>NaN</td>\n",
       "      <td>NaN</td>\n",
       "      <td>NaN</td>\n",
       "      <td>1.000000</td>\n",
       "    </tr>\n",
       "    <tr>\n",
       "      <th>25%</th>\n",
       "      <td>6.900000</td>\n",
       "      <td>155.000000</td>\n",
       "      <td>8.500000</td>\n",
       "      <td>3.200000</td>\n",
       "      <td>2.000000</td>\n",
       "      <td>11.000000</td>\n",
       "      <td>3.000000</td>\n",
       "      <td>NaN</td>\n",
       "      <td>NaN</td>\n",
       "      <td>NaN</td>\n",
       "      <td>3.000000</td>\n",
       "    </tr>\n",
       "    <tr>\n",
       "      <th>50%</th>\n",
       "      <td>7.800000</td>\n",
       "      <td>205.000000</td>\n",
       "      <td>11.000000</td>\n",
       "      <td>3.400000</td>\n",
       "      <td>3.000000</td>\n",
       "      <td>15.000000</td>\n",
       "      <td>4.000000</td>\n",
       "      <td>NaN</td>\n",
       "      <td>NaN</td>\n",
       "      <td>NaN</td>\n",
       "      <td>4.000000</td>\n",
       "    </tr>\n",
       "    <tr>\n",
       "      <th>75%</th>\n",
       "      <td>8.700000</td>\n",
       "      <td>252.000000</td>\n",
       "      <td>13.400000</td>\n",
       "      <td>3.800000</td>\n",
       "      <td>4.000000</td>\n",
       "      <td>20.000000</td>\n",
       "      <td>4.500000</td>\n",
       "      <td>NaN</td>\n",
       "      <td>NaN</td>\n",
       "      <td>NaN</td>\n",
       "      <td>4.500000</td>\n",
       "    </tr>\n",
       "    <tr>\n",
       "      <th>max</th>\n",
       "      <td>10.000000</td>\n",
       "      <td>300.000000</td>\n",
       "      <td>16.000000</td>\n",
       "      <td>4.400000</td>\n",
       "      <td>5.000000</td>\n",
       "      <td>25.000000</td>\n",
       "      <td>5.000000</td>\n",
       "      <td>NaN</td>\n",
       "      <td>NaN</td>\n",
       "      <td>NaN</td>\n",
       "      <td>5.000000</td>\n",
       "    </tr>\n",
       "  </tbody>\n",
       "</table>\n",
       "</div>"
      ],
      "text/plain": [
       "         Size (cm)  Weight (g)  Brix (Sweetness)  pH (Acidity)  \\\n",
       "count   241.000000  241.000000        241.000000    241.000000   \n",
       "unique         NaN         NaN               NaN           NaN   \n",
       "top            NaN         NaN               NaN           NaN   \n",
       "freq           NaN         NaN               NaN           NaN   \n",
       "mean      7.844813  205.128631         10.907884      3.473900   \n",
       "std       1.086002   56.461012          2.760446      0.421007   \n",
       "min       6.000000  100.000000          5.500000      2.800000   \n",
       "25%       6.900000  155.000000          8.500000      3.200000   \n",
       "50%       7.800000  205.000000         11.000000      3.400000   \n",
       "75%       8.700000  252.000000         13.400000      3.800000   \n",
       "max      10.000000  300.000000         16.000000      4.400000   \n",
       "\n",
       "        Softness (1-5)  HarvestTime (days)  Ripeness (1-5)        Color  \\\n",
       "count       241.000000          241.000000      241.000000          241   \n",
       "unique             NaN                 NaN             NaN            5   \n",
       "top                NaN                 NaN             NaN  Deep Orange   \n",
       "freq               NaN                 NaN             NaN           75   \n",
       "mean          3.072614           15.344398        3.599585          NaN   \n",
       "std           1.323630            5.323852        1.205214          NaN   \n",
       "min           1.000000            4.000000        1.000000          NaN   \n",
       "25%           2.000000           11.000000        3.000000          NaN   \n",
       "50%           3.000000           15.000000        4.000000          NaN   \n",
       "75%           4.000000           20.000000        4.500000          NaN   \n",
       "max           5.000000           25.000000        5.000000          NaN   \n",
       "\n",
       "          Variety Blemishes (Y/N)  Quality (1-5)  \n",
       "count         241             241     241.000000  \n",
       "unique         24              12            NaN  \n",
       "top     Cara Cara               N            NaN  \n",
       "freq           21             149            NaN  \n",
       "mean          NaN             NaN       3.817427  \n",
       "std           NaN             NaN       1.014410  \n",
       "min           NaN             NaN       1.000000  \n",
       "25%           NaN             NaN       3.000000  \n",
       "50%           NaN             NaN       4.000000  \n",
       "75%           NaN             NaN       4.500000  \n",
       "max           NaN             NaN       5.000000  "
      ]
     },
     "execution_count": 16,
     "metadata": {},
     "output_type": "execute_result"
    }
   ],
   "source": [
    "laranjas.describe(include='all')"
   ]
  },
  {
   "cell_type": "code",
   "execution_count": 21,
   "metadata": {
    "tags": []
   },
   "outputs": [
    {
     "data": {
      "text/plain": [
       "array(['Y (Minor)', 'Y (Sunburn)', 'Y (Mold Spot)', 'Y (Bruise)',\n",
       "       'Y (Split Skin)', 'Y (Sunburn Patch)', 'Y (Scars)',\n",
       "       'Y (Minor Insect Damage)', 'Y (Bruising)'], dtype=object)"
      ]
     },
     "execution_count": 21,
     "metadata": {},
     "output_type": "execute_result"
    }
   ],
   "source": [
    "blemishes_yes = laranjas[laranjas[\"Blemishes (Y/N)\"].str.contains(\"y\", case=False)]\n",
    "\n",
    "blemishes_unique = blemishes_yes[\"Blemishes (Y/N)\"].unique()\n",
    "\n",
    "blemishes_unique"
   ]
  },
  {
   "cell_type": "code",
   "execution_count": 5,
   "metadata": {
    "tags": []
   },
   "outputs": [
    {
     "data": {
      "image/png": "[encoded data removed]",
      "text/plain": [
       "<Figure size 700x700 with 1 Axes>"
      ]
     },
     "metadata": {},
     "output_type": "display_data"
    }
   ],
   "source": [
    "# Contagem de cada cor\n",
    "color_counts = laranjas['Color'].value_counts()\n",
    "\n",
    "# Plotando a distribuição das cores\n",
    "plt.figure(figsize=(7,7))\n",
    "plt.suptitle('Distribuição de Cores das Laranjas', fontweight='bold')\n",
    "\n",
    "# Gráfico de barras\n",
    "bars = plt.bar(color_counts.index, color_counts.values, color='orange')\n",
    "\n",
    "# Adicionando rótulos\n",
    "plt.xlabel('Cor')\n",
    "plt.ylabel('Contagem')\n",
    "\n",
    "# Adicionando os valores acima de cada barra\n",
    "for bar in bars:\n",
    "    yval = bar.get_height()\n",
    "    plt.text(bar.get_x() + bar.get_width()/2, yval + 0.5, int(yval), ha='center', va='bottom')\n",
    "\n",
    "plt.tight_layout()\n",
    "\n",
    "# Exibindo o gráfico\n",
    "plt.show()"
   ]
  },
  {
   "cell_type": "code",
   "execution_count": 6,
   "metadata": {
    "tags": []
   },
   "outputs": [
    {
     "data": {
      "image/png": "[encoded data removed]",
      "text/plain": [
       "<Figure size 1000x700 with 1 Axes>"
      ]
     },
     "metadata": {},
     "output_type": "display_data"
    }
   ],
   "source": [
    "# Contagem de cada Variedade de laranja\n",
    "variety_counts = laranjas['Variety'].value_counts()\n",
    "\n",
    "# Plotando a distribuição das variedades\n",
    "plt.figure(figsize=(10,7))\n",
    "plt.suptitle('Distribuição de Variedades das Laranjas', fontweight='bold')\n",
    "\n",
    "# Gráfico de barras\n",
    "bars = plt.barh(variety_counts.index, variety_counts.values, color='orange')\n",
    "\n",
    "# Adicionando rótulos\n",
    "plt.xlabel('Variedade')\n",
    "plt.ylabel('Contagem')\n",
    "\n",
    "# Adicionando os valores acima de cada barra\n",
    "for bar in bars:\n",
    "    yval = bar.get_width()\n",
    "    plt.text(yval + 0.3, bar.get_y() + bar.get_height()/2, int(yval), va='center')\n",
    "\n",
    "plt.tight_layout()\n",
    "\n",
    "# Exibindo o gráfico\n",
    "plt.show()"
   ]
  },
  {
   "cell_type": "markdown",
   "metadata": {},
   "source": [
    "## 3. Insights"
   ]
  },
  {
   "cell_type": "code",
   "execution_count": null,
   "metadata": {},
   "outputs": [],
   "source": []
  }
 ],
 "metadata": {
  "kernelspec": {
   "display_name": "Python 3 (ipykernel)",
   "language": "python",
   "name": "python3"
  },
  "language_info": {
   "codemirror_mode": {
    "name": "ipython",
    "version": 3
   },
   "file_extension": ".py",
   "mimetype": "text/x-python",
   "name": "python",
   "nbconvert_exporter": "python",
   "pygments_lexer": "ipython3",
   "version": "3.10.12"
  },
  "vscode": {
   "interpreter": {
    "hash": "eb3c3305d8b111f0102f4f519c5f17abd113fe74db6752c355e994a9008815ef"
   }
  }
 },
 "nbformat": 4,
 "nbformat_minor": 4
}
